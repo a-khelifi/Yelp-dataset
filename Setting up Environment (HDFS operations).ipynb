{
 "cells": [
  {
   "cell_type": "markdown",
   "metadata": {},
   "source": [
    "# 1. First, on the Local area"
   ]
  },
  {
   "cell_type": "code",
   "execution_count": null,
   "metadata": {
    "collapsed": true
   },
   "outputs": [],
   "source": [
    "#First, print the working directory\n",
    "pwd\n",
    "#working directory: /home/users/khelifim\n",
    "\n",
    "#list the files and directories contained in this directory\n",
    "ls\n",
    "\n",
    "#Create a new directory called \"yelp\" \n",
    "mkdir ./yelp\n",
    "\n",
    "#Check that yelp is created.\n",
    "#Then, check its emptiness.\n",
    "ls\n",
    "ls ./yelp\n",
    "\n",
    "#after downloading the 6 JSON files (business.json, checkin.json,\n",
    "#photos.json, review.json, tip.json, user.json), select yelp \n",
    "#as their directory for saving.\n",
    "\n",
    "#check the content of yelp after dowanloading.\n",
    "ls ./yelp\n",
    "\n",
    "#Change the directory to yelp\n",
    "cd ./yelp\n",
    "#Then, open a new terminal from here \n",
    "#in order to keep yelp as the working directory,\n",
    "#on top of which the poincare cluster will be launched."
   ]
  },
  {
   "cell_type": "markdown",
   "metadata": {},
   "source": [
    "# 2. Then, on the Poincare area"
   ]
  },
  {
   "cell_type": "code",
   "execution_count": null,
   "metadata": {
    "collapsed": true
   },
   "outputs": [],
   "source": [
    "#As yelp being the current directory, login to the Poincare system \n",
    "#by entering this command and then the password.\n",
    "ssh -X 18033298@poincare.mmu.ac.uk\n",
    "\n",
    "#Print the working directory\n",
    "pwd\n",
    "#working directory: /home/18033298\n",
    "\n",
    "#list the files and directories contained in this directory.\n",
    "ls\n",
    "\n",
    "#Create a new directory called yelp within the poincare system. \n",
    "mkdir ./yelp\n",
    "\n",
    "#check that yelp is created, then its emptiness\n",
    "ls\n",
    "ls ./yelp\n",
    "\n",
    "#Load the latest python version 3.6\n",
    "module load opt-python"
   ]
  },
  {
   "cell_type": "markdown",
   "metadata": {},
   "source": [
    "# 3. Next, back again to the Local area"
   ]
  },
  {
   "cell_type": "code",
   "execution_count": null,
   "metadata": {
    "collapsed": true
   },
   "outputs": [],
   "source": [
    "#Transfer all the 6 JSON local files into poincare\n",
    "#using secure remote copy scp\n",
    "scp business.json checkin.json photos.json review.json tip.json user.json 18033298@poincare.mmu.ac.uk:~/yelp"
   ]
  },
  {
   "cell_type": "markdown",
   "metadata": {
    "collapsed": true
   },
   "source": [
    "# 4. Last, on the Hadoop area \n",
    "### (technically, it will be started from the poincare terminal)"
   ]
  },
  {
   "cell_type": "code",
   "execution_count": null,
   "metadata": {
    "collapsed": true
   },
   "outputs": [],
   "source": [
    "#Back again on the same poincare terminal, the commands below are run. \n",
    "#List the existing files and directories.\n",
    "hdfs dfs -ls\n",
    "\n",
    "#Create a new directory called yelp within the HDFS system.\n",
    "hdfs dfs -mkdir yelp\n",
    "\n",
    "#Check that yelp is created.\n",
    "hdfs dfs -ls\n",
    "\n",
    "#Copy the 6 JSON files, located in poincare, to HDFS system.\n",
    "hdfs dfs -put yelp/business.json yelp/checkin.json yelp/photos.json yelp/review.json yelp/tip.json yelp/user.json yelp\n",
    "\n",
    "#Check the copied files.\n",
    "hdfs dfs -ls yelp\n",
    "\n",
    "#Configuring Spark and Python on poincare\n",
    "export SPARK_HOME=/usr/hdp/current/spark2-thriftserver\n",
    "export PYTHONPATH=.:$PYTHONPATH:$SPARK_HOME/python:$SPARK_HOME/python/lib/py4j-0.10.4-src.zip\n",
    "export SPARK_MAJOR_VERSION=2\n",
    "export PYSPARK_DRIVER_PYTHON=ipython3\n",
    "\n",
    "#launch PySpark\n",
    "pyspark"
   ]
  }
 ],
 "metadata": {
  "kernelspec": {
   "display_name": "Python 3",
   "language": "python",
   "name": "python3"
  },
  "language_info": {
   "codemirror_mode": {
    "name": "ipython",
    "version": 3
   },
   "file_extension": ".py",
   "mimetype": "text/x-python",
   "name": "python",
   "nbconvert_exporter": "python",
   "pygments_lexer": "ipython3",
   "version": "3.5.3"
  }
 },
 "nbformat": 4,
 "nbformat_minor": 2
}
