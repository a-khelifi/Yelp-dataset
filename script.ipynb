{
 "cells": [
  {
   "cell_type": "code",
   "execution_count": null,
   "metadata": {
    "collapsed": true
   },
   "outputs": [],
   "source": [
    "#First, ispecting the JSON files contained within the file yelp in the hadoop system  \n",
    "#in order to import the relevant ones (user.json, review.json, and business.json).   \n",
    "!hadoop fs -ls /user/msc/datasets/yelp\n",
    "#Importing the json module to process JSON files.\n",
    "import json"
   ]
  },
  {
   "cell_type": "markdown",
   "metadata": {},
   "source": [
    "# Dataset content inspection"
   ]
  },
  {
   "cell_type": "code",
   "execution_count": null,
   "metadata": {
    "collapsed": true
   },
   "outputs": [],
   "source": [
    "U=sc.textFile('/user/msc/datasets/yelp/user.json')\\\n",
    ".map(lambda x: json.loads(x))\n",
    "R=sc.textFile('/user/msc/datasets/yelp/review.json')\\\n",
    "    .map(lambda x: json.loads(x))\n",
    "B=sc.textFile('/user/msc/datasets/yelp/business.json')\\\n",
    ".map(lambda x: json.loads(x))"
   ]
  },
  {
   "cell_type": "code",
   "execution_count": null,
   "metadata": {
    "collapsed": true
   },
   "outputs": [],
   "source": [
    "#Returns the number of all unique reviews written.\n",
    "R.map(lambda x: x['review_id']).distinct().count()\n",
    "#Output: 5261669 reviews\n",
    "\n",
    "#Returns the number of all unique users.\n",
    "U.map(lambda x: x['user_id']).distinct().count()\n",
    "#Output: 1326101 users.\n",
    "\n",
    "#Returns the number of all unique businesses reviewed.\n",
    "B.map(lambda x: x['business_id']).distinct().count()\n",
    "#Output: 174567 businesses."
   ]
  },
  {
   "cell_type": "markdown",
   "metadata": {},
   "source": [
    "# Q1. Which reviews have been rated as useful by more than 30 users and funny by more than 20 users?"
   ]
  },
  {
   "cell_type": "code",
   "execution_count": null,
   "metadata": {
    "collapsed": true
   },
   "outputs": [],
   "source": [
    "#Creating the review RDD which is noted by R.\n",
    "#textFile is used for importing the file review.json.\n",
    "#json.loads() is used to process this file.\n",
    "R=sc.textFile('/user/msc/datasets/yelp/review.json')\\\n",
    "    .map(lambda x: json.loads(x))"
   ]
  },
  {
   "cell_type": "markdown",
   "metadata": {},
   "source": [
    "### Output: Number of reviews with more than 30 useful and 20 funny votes."
   ]
  },
  {
   "cell_type": "code",
   "execution_count": null,
   "metadata": {
    "collapsed": true
   },
   "outputs": [],
   "source": [
    "#Filter the R RDD based on reviews which received more than 30 useful \n",
    "#and more than 20 funny votes by using the transformation filter().\n",
    "#Returns the 2 first reviews  by using the action count(). \n",
    "R.filter(lambda x: (x['useful']>30) and (x['funny']>20)).count()\n",
    "#Output: 4011 reviews. "
   ]
  },
  {
   "cell_type": "markdown",
   "metadata": {},
   "source": [
    "### Output: Two first reviews with more than 30 useful and 20 funny votes."
   ]
  },
  {
   "cell_type": "code",
   "execution_count": null,
   "metadata": {
    "collapsed": true
   },
   "outputs": [],
   "source": [
    "#Filter the R RDD based on reviews which received more than 30 useful \n",
    "#and more than 20 funny votes by using the transformation filter().\n",
    "#Returns the 2 first reviews  by using the action take().  \n",
    "R.filter(lambda x: (x['useful']>30) and (x['funny']>20)).take(2)"
   ]
  },
  {
   "cell_type": "code",
   "execution_count": 1,
   "metadata": {
    "collapsed": true
   },
   "outputs": [],
   "source": [
    "#Output:\n",
    "# [{'business_id': 'upgjUq616Yz1IvAvysDLWA',\n",
    "#   'cool': 40,\n",
    "#   'date': '2017-09-08',\n",
    "#   'funny': 25,\n",
    "#   'review_id': 'und_IbRFr2Rwpizt-kfZuw',\n",
    "#   'stars': 5,\n",
    "#   'text': 'Great food!\\n\\nThis restaurant isn\\'t located on the Strip... this place isn\\'t Hash House A Go Go, Momofuku, Wicked Spoon nor is it Eggslut (although I\\'ve bookmarked those places for future visits) but because of that it doesn\\'t have the food prices you pay when dining at the Strip. Get it? For a little over $20 we were able to fill our tummies with delicious food.\\n\\nI had Ely\\'s Burger. Beef, cheese, grilled onions, mushrooms, lettuce, tomato and mayo... hold the pickles and red onion, please. The meal came with crinkle-cut fries. I love the mushrooms in this burger. Tasty and delicious!  Hubby had the Bacon (or Sausage) Skillet. He scarfed it down... no need to ask him if he enjoyed his meal. \\n\\nThis place has a casual dining atmosphere, nothing fancy. They serve classic American food, breakfast, lunch, and dinner. Great, affordable prices. Our table was well taken care of. Very attentive servers but not overly. They were friendly and nice. Hubby loves wearing his GS Warriors shirts and it always gets attention from sports fans when we go places. Had engaged in a convo with the server who also processed our bill (Lakers fan). Then, I\\'m not sure if it was the owner that said to me as we were leaving... \"review us in Yelp\" (now how did he know I Yelp??). Worth coming back to when we\\'re in town again :)\\n\\nReview #0835',\n",
    "#   'useful': 47,\n",
    "#   'user_id': 'Hm0diOkWwpo9zotlJlqMUQ'},\n",
    "#  {'business_id': 'I6ICIIZfZsp_J9hHmfhWhQ',\n",
    "#   'cool': 43,\n",
    "#   'date': '2017-09-09',\n",
    "#   'funny': 25,\n",
    "#   'review_id': 'yD_zR37iwd_zqonHEhnjTg',\n",
    "#   'stars': 4,\n",
    "#   'text': \"Parking fees in casinos on the Strip\\n\\nLove coming to Vegas. We used to frequent visiting Sin City, sometimes three times a year, but lately have slowed down and this year, 2017, was our first time back in Vegas since Feb 2016! wow! has it been that long... no wonder I was longing for it in this last mini getaway! Anyway, found out that many of the casinos have done away with the free parking! The good old days of plentiful free parking at casinos ended in 2016. Bummer! Wait, I take that back... I think some casinos offer 0-60 mins free parking. It's true that parking garages here are so abundant but unless you're staying at or patronizing the resort you have to fork out $ for parking fees. Now it's all about parking in one spot, pay the fees, and walk, walk, walk... I suppose one can take the monorails too. \\n\\nWhile I'm done ranting about the newly imposed parking fees (new to me, at least) I do enjoy walking around the Strip. I'm not talking about from one end to another. I enjoyed it best during Pacquiao's fights held at the MGM (held usually in May). Hubby and I come to Vegas to celebrate our birthdays around that time. Loved the hype it brought. I also enjoyed the outdoor shows... Treasure Island, The Mirage and Bellagio. \\n\\nAnd damn those Las Vegas card flickers. If you've ever been to Vegas, you know what I'm talking about. Although, I didn't see any this time while walking around Treasure Island and crossing over to Wynn. Are they gone now?\\n\\nIf flying in Vegas one can see the Strip with all the lights as your plane is about to land. I always look for either the Stratosphere (The tallest observation tower in the U.S.) or the light beam from the Luxor on the southern end (the Luxor Sky Beam is the strongest beam of light in the world). I look for these landmarks when our plane is about to descend at McCarran Int'l Airport. Lots of car traffic as well as foot traffic on the Strip. Lots of lights. Lots of tourists. Lots of shops, restaurants, bars and lounges. This place comes alive on weekends.  What happens in Vegas stays in... Facebook, IG, and Snapchat (nowadays). Be mindful :)\\n\\nReview #0838\",\n",
    "#   'useful': 49,\n",
    "#   'user_id': 'Hm0diOkWwpo9zotlJlqMUQ'}]"
   ]
  },
  {
   "cell_type": "markdown",
   "metadata": {},
   "source": [
    "# Q2. Which businesses based in Las Vegas that are identified as Nightlife have been rated 4.5 stars or higher? "
   ]
  },
  {
   "cell_type": "code",
   "execution_count": null,
   "metadata": {
    "collapsed": true
   },
   "outputs": [],
   "source": [
    "#Creating the business RDD which is noted by B.\n",
    "#textFile is used for importing the file business.json.\n",
    "#json.loads() is used to process this file.\n",
    "B=sc.textFile('/user/msc/datasets/yelp/business.json')\\\n",
    ".map(lambda x: json.loads(x))\n",
    "\n",
    "#B1 is a new RDD that represents Nightlife businesses with 4.5 stars and more in Las Vegas city, \n",
    "#obtained by applying the transformation filter().\n",
    "#The method .lower() is applied to make all cases lower for an easy filtering.\n",
    "#'Las' and 'Vegas' have been tested independently with an AND operator,\n",
    "#because many variants of Las Vegas city exist, as illustrated in the last cell within Q2.\n",
    "B1=B.filter(lambda x: 'Nightlife' in x['categories'])\\\n",
    ".filter(lambda x: x['stars']>=4.5)\\\n",
    ".filter(lambda x: 'las' in x['city'].lower()\\\n",
    " and 'vegas' in x['city'].lower())"
   ]
  },
  {
   "cell_type": "markdown",
   "metadata": {},
   "source": [
    "### Output: Number of nightlife businesses in Las Vegas with 4.5 stars and higher. "
   ]
  },
  {
   "cell_type": "code",
   "execution_count": null,
   "metadata": {
    "collapsed": true
   },
   "outputs": [],
   "source": [
    "#Take only the name attribute of B1 RDD by using the transformation map().\n",
    "#Returns the count of businesses by using the action count(). \n",
    "B1.map(lambda x: x['name']).count()\n",
    "#Output: 391 businesses. "
   ]
  },
  {
   "cell_type": "markdown",
   "metadata": {},
   "source": [
    "### Output: Top-10 nightlife businesses in Las Vegas with 4.5 stars and higher. "
   ]
  },
  {
   "cell_type": "code",
   "execution_count": null,
   "metadata": {
    "collapsed": true
   },
   "outputs": [],
   "source": [
    "#Take only the name attribute of B1 RDD by using the transformation map().\n",
    "#Returns the 10 first bsuinesse by using the action take().\n",
    "B1.map(lambda x: x['name']).take(10)\n",
    "\n",
    "#Output: \n",
    "# ['Cancun Bar & Grill',\n",
    "#  'Strip Gun Club',\n",
    "#  \"Till's Bar\",\n",
    "#  'Kahunaville O2 Bar',\n",
    "#  'Speed Zone Tavern',\n",
    "#  'EMC Las Vegas',\n",
    "#  'The Black Sheep',\n",
    "#  'Jjanga Fusion Pocha',\n",
    "#  'Wayfarer Bar',\n",
    "#  'retroscena']"
   ]
  },
  {
   "cell_type": "markdown",
   "metadata": {},
   "source": [
    "### Output: All the nightlife businesses in Las Vegas with 4.5 stars and higher. "
   ]
  },
  {
   "cell_type": "code",
   "execution_count": null,
   "metadata": {
    "collapsed": true
   },
   "outputs": [],
   "source": [
    "#Take only the name attribute of B1 RDD by using the transformation map().\n",
    "#Returns all the 391 businesses in a list, by using the action collect(). \n",
    "B1.map(lambda x: x['name']).collect()"
   ]
  },
  {
   "cell_type": "markdown",
   "metadata": {},
   "source": [
    "### EXTRA: explore the variants of Las Vegas city."
   ]
  },
  {
   "cell_type": "code",
   "execution_count": null,
   "metadata": {
    "collapsed": true
   },
   "outputs": [],
   "source": [
    "#This is just to illustrate the several variants that Las Vegas city has got. \n",
    "B1.map(lambda x: x['city'])\\\n",
    ".map(lambda x: (x,1))\\\n",
    ".reduceByKey(lambda x,y: x+y)\\\n",
    ".collect()\n",
    "\n",
    "#Output: it shows the 4 different variants with their counts:  \n",
    "# [('North Las Vegas', 7),\n",
    "#  ('Las Vegas', 382),\n",
    "#  ('South Las Vegas', 1),\n",
    "#  ('LasVegas', 1)]"
   ]
  },
  {
   "cell_type": "markdown",
   "metadata": {},
   "source": [
    "# Q3. What are the top-10 reviewers, in terms of the absolute number of reviews marked as useful by other users, of Nightlife businesses in Urbana-Champaign? "
   ]
  },
  {
   "cell_type": "code",
   "execution_count": null,
   "metadata": {
    "collapsed": true
   },
   "outputs": [],
   "source": [
    "#Create the user, review and business RDDs, noted U, R and B respectively. \n",
    "#textFile is used for importing these files.\n",
    "#json.loads() is used to process them.\n",
    "U=sc.textFile('/user/msc/datasets/yelp/user.json')\\\n",
    ".map(lambda x: json.loads(x))\n",
    "R=sc.textFile('/user/msc/datasets/yelp/review.json')\\\n",
    "    .map(lambda x: json.loads(x))\n",
    "B=sc.textFile('/user/msc/datasets/yelp/business.json')\\\n",
    ".map(lambda x: json.loads(x))\n",
    "\n",
    "#Create slices for the RDDs: User, Review and Business, by using the transformation map().\n",
    "U_slice=U.map(lambda x: {'user_id':x['user_id'],'name':x['name']})\n",
    "R_slice=R.map(lambda x: {'user_id':x['user_id'],\\\n",
    "                         'review_id':x['review_id']\\\n",
    "                         ,'useful':x['useful']\\\n",
    "                         ,'business_id':x['business_id']})\n",
    "B_slice=B.map(lambda x: {'business_id':x['business_id']\\\n",
    "                         ,'city':x['city']\\\n",
    "                         ,'categories':x['categories']})\n",
    "\n",
    "#map() is used to transform User and Review slices into pair-RDDs (key-value) \n",
    "#with the sharing key being \"user_id\".\n",
    "U_kv=U_slice.map(lambda x: (x['user_id'],{'name':x['name']}))\n",
    "R_kv=R_slice.map(lambda x: (x['user_id'],{'review_id':x['review_id'],\\\n",
    "                                          'useful':x['useful'],\\\n",
    "                                          'business_id':x['business_id']}))\n",
    "\n",
    "#The transformation join() is used to join the User pair-RDD \n",
    "#with the Review pair-RDD based on the feature \"user_id\".\n",
    "UR=U_kv.join(R_kv)\n",
    "\n",
    "#map() is used to transform the key-value structure \n",
    "#of the outcome RDD (i.e., UR) to a list of dictionnaries.\n",
    "#The UR RDD is overwritten. \n",
    "UR=UR.map(lambda x: {'user_id':x[0],'name':x[1][0]['name']\\\n",
    "                     ,'business_id':x[1][1]['business_id']\\\n",
    "                     ,'review_id':x[1][1]['review_id']\\\n",
    "                     ,'useful':x[1][1]['useful']})\n",
    "\n",
    "#map() is used to transform the UR and business slice RDDs  \n",
    "#into pair-RDDs (key-value) with the sharing key being \"business_id\".\n",
    "UR_kv=UR.map(lambda x: (x['business_id'], {'user_id':x['user_id']\\\n",
    "                                           ,'name':x['name']\\\n",
    "                                           ,'review_id':x['review_id']\\\n",
    "                                           ,'useful':x['useful']}))\n",
    "B_kv=B_slice.map(lambda x: (x['business_id'],{'city':x['city']\\\n",
    "                                              ,'categories':x['categories']}))\n",
    "\n",
    "#The transformation join() is used to join the UR with the Business pair-RDDs\n",
    "#based on the attribute \"business_id\".  \n",
    "URB=UR_kv.join(B_kv)\n",
    "\n",
    "#map() is used to transform the key-value structure \n",
    "#of the outcome RDD (i.e., URB) to a list of dictionnaries.\n",
    "#The URB RDD is overwritten. \n",
    "URB=URB.map(lambda x: {'business_id':x[0],'name':x[1][0]['name'],'user_id':x[1][0]['user_id']\\\n",
    "                       ,'review_id':x[1][0]['review_id'],'useful':x[1][0]['useful']\\\n",
    "                       ,'categories':x[1][1]['categories'],'city':x[1][1]['city']})   \n",
    "\n",
    "#The transformation filter() is used to filter the URB RDD, \n",
    "#based on Useful reviews for Nightlife businesses in Urbana-Champaign only.\n",
    "#UNUC stands for: Useful/Nightlife/Urbana-Champaign, respectively. \n",
    "#The method .lower() is applied to make all cases lower for an easy filtering.\n",
    "URB_UNUC=URB.filter(lambda x: x['useful']>0)\\\n",
    ".filter(lambda x: 'Nightlife' in x['categories'])\\\n",
    ".filter(lambda x: 'urbana' in x['city'].lower()) "
   ]
  },
  {
   "cell_type": "markdown",
   "metadata": {},
   "source": [
    "### Output: Top-10 users with regards to the number of reviews marked as useful for nightlife bsuinesses in Urbana."
   ]
  },
  {
   "cell_type": "code",
   "execution_count": null,
   "metadata": {
    "collapsed": true
   },
   "outputs": [],
   "source": [
    "#map() is used to map 1 to each user_id alongside the name\n",
    "#The action reduceByKey() is used to add the values based on the key (user_id,name)\n",
    "#SortBy() is used to sort the output based on the value in a descending order.\n",
    "#The action take() is used to returns the top-10 reviewrs.\n",
    "URB_UNUC.map(lambda x: ((x['user_id'],x['name']),1))\\\n",
    ".reduceByKey(lambda x,y: x+y)\\\n",
    ".sortBy(lambda x: -x[1])\\\n",
    ".take(10)\n",
    "\n",
    "#Output: \n",
    "# [(('algWLZgj76v00Fmy_i3Y9g', 'Erin'), 5),\n",
    "#  (('GxkY7BqazkQu6I9HBDpbqQ', 'Tim'), 5),\n",
    "#  (('VVimjPD7f8O5D1fhy5vSpw', 'Daniella'), 5),\n",
    "#  (('qmjoMFMZdLH69_6eGTGDZw', 'Lisa'), 4),\n",
    "#  (('pJyV8I6JsKG_iSzPLvb5AA', 'Seth'), 4),\n",
    "#  (('p-2tjwAQ_8pB5r552gQNFQ', 'Penelope'), 2),\n",
    "#  (('WJdXYIM5cphh_28C5Bhnfw', 'Jessica'), 2),\n",
    "#  (('wHNHNzMghPsCSAkqR_OxPw', 'N'), 2),\n",
    "#  (('tIjyMvP5dBnsK9JWpq89WA', 'Megan'), 2),\n",
    "#  (('-0e6xyw_4zyg-2YtqSlS_g', 'Michaela'), 2)]"
   ]
  },
  {
   "cell_type": "markdown",
   "metadata": {},
   "source": [
    "### EXTRA: check that the output makes sense."
   ]
  },
  {
   "cell_type": "code",
   "execution_count": null,
   "metadata": {
    "collapsed": true
   },
   "outputs": [],
   "source": [
    "#This is just an extra work to check our top-10 reviewers.\n",
    "\n",
    "#The following pipeline gives the number of useful reviews\n",
    "#written about nightlife businesses in UC.\n",
    "URB_UNUC.map(lambda x: x['review_id']).count()\n",
    "#Output: there are 240 useful reviews.\n",
    "\n",
    "#This pipeline is just to show how many unique users \n",
    "#who wrote useful reviews about nightlife businesses in UC.\n",
    "URB_UNUC.map(lambda x: (x['user_id'],x['name'])).distinct().count()\n",
    "#Output: there are 203 unique reviewers. \n",
    "\n",
    "#Note: there are 240 useful reviews written about nightlife \n",
    "#businesses in UC by 203 users, and that reinforce the results\n",
    "#obtained regarding the top-10 reviewers and their reviews count (cell above)."
   ]
  },
  {
   "cell_type": "markdown",
   "metadata": {
    "collapsed": true
   },
   "source": [
    "# Proposed Explatory Q. \n",
    "# Are users with a lot of fans more likely to write more reviews about restaurants, than users with few fans? "
   ]
  },
  {
   "cell_type": "code",
   "execution_count": null,
   "metadata": {
    "collapsed": true
   },
   "outputs": [],
   "source": [
    "#Create the user, review and business RDDs, noted U, R and B respectively. \n",
    "#textFile is used for importing these files.\n",
    "#json.loads() is used to process them.\n",
    "U=sc.textFile('/user/msc/datasets/yelp/user.json')\\\n",
    ".map(lambda x: json.loads(x))\n",
    "R=sc.textFile('/user/msc/datasets/yelp/review.json')\\\n",
    "    .map(lambda x: json.loads(x))\n",
    "B=sc.textFile('/user/msc/datasets/yelp/business.json')\\\n",
    ".map(lambda x: json.loads(x))\n",
    "\n",
    "#Create slices for the RDDs: User, Review and Business, by using the transformation map().\n",
    "U_slice=U.map(lambda x: {'user_id':x['user_id'],'name':x['name']\\\n",
    "                         ,'fans':x['fans']})\n",
    "R_slice=R.map(lambda x: {'user_id':x['user_id'],'review_id':x['review_id']\\\n",
    "                         ,'business_id':x['business_id']})\n",
    "B_slice=B.map(lambda x: {'business_id':x['business_id'],\\\n",
    "                         'categories':x['categories']})\n",
    "\n",
    "#map() is used to transform User and Review slices into pair-RDDs (key-value) \n",
    "#with the sharing key being \"user_id\".\n",
    "U_kv=U_slice.map(lambda x: (x['user_id'],{'name':x['name'],\\\n",
    "                                          'fans':x['fans']}))  \n",
    "R_kv=R_slice.map(lambda x: (x['user_id'],{'review_id':x['review_id'],\\\n",
    "                                          'business_id':x['business_id']}))\n",
    "\n",
    "#The transformation join() is used to join the User pair-RDD \n",
    "#with the Review pair-RDD based on the feature \"user_id\".\n",
    "UR=U_kv.join(R_kv)\n",
    "\n",
    "#map() is used to transform the key-value structure \n",
    "#of the outcome RDD (i.e., UR) to a list of dictionnaries.\n",
    "#The UR RDD is overwritten. \n",
    "UR=UR.map(lambda x: {'user_id':x[0],'name':x[1][0]['name'],\\\n",
    "                     'fans':x[1][0]['fans'],\\\n",
    "                     'review_id':x[1][1]['review_id'],\\\n",
    "                     'business_id':x[1][1]['business_id']})\n",
    "\n",
    "#map() is used to transform the UR and business slice RDDs  \n",
    "#into pair-RDDs (key-value) with the sharing key being \"business_id\".\n",
    "UR_kv=UR.map(lambda x: (x['business_id'], {'user_id':x['user_id']\\\n",
    "                                           ,'name':x['name']\\\n",
    "                                           ,'review_id':x['review_id']\\\n",
    "                                           ,'fans':x['fans']}))\n",
    "B_kv=B_slice.map(lambda x: (x['business_id'],{'categories':x['categories']}))\n",
    "\n",
    "#The transformation join() is used to join the UR with the Business pair-RDDs\n",
    "#based on the attribute \"business_id\".\n",
    "URB=UR_kv.join(B_kv)\n",
    "\n",
    "#map() is used to transform the key-value structure \n",
    "#of the outcome RDD (i.e., URB) to a list of dictionnaries.\n",
    "#The URB RDD is overwritten. \n",
    "URB=URB.map(lambda x: {'business_id':x[0],'name':x[1][0]['name'],\\\n",
    "                       'user_id':x[1][0]['user_id']\\\n",
    "                       ,'review_id':x[1][0]['review_id'],\\\n",
    "                       'fans':x[1][0]['fans']\\\n",
    "                       ,'categories':x[1][1]['categories']}) \n",
    "\n",
    "#The transformation filter() is used to filter the URB RDD, \n",
    "#based on reviewers having fans, and restaurant businesses.\n",
    "#FR stands for: Fans/Restaurants, respectively. \n",
    "URB_FR=URB.filter(lambda x: x['fans']>0)\\\n",
    ".filter(lambda x: 'Restaurants' in x['categories'])"
   ]
  },
  {
   "cell_type": "markdown",
   "metadata": {},
   "source": [
    "### Output: Top-5 reviewers, alongside their fans, with regards to reviews count."
   ]
  },
  {
   "cell_type": "code",
   "execution_count": null,
   "metadata": {
    "collapsed": true
   },
   "outputs": [],
   "source": [
    "#map() is used to map 1 to each user_id alongside the name and number of fans. \n",
    "#The action reduceByKey() is used to add the values based on the key (user_id,name,fans)\n",
    "#SortBy() is used to sort the output based on the value in a descending order.\n",
    "#The action take() is used to returns the top-5 reviewrs.\n",
    "URB_FR.map(lambda x: ((x['user_id'],x['name'],x['fans']),1))\\\n",
    ".reduceByKey(lambda x,y: x+y)\\\n",
    ".sortBy(lambda x: -x[1])\\\n",
    ".take(5)  \n",
    "\n",
    "#Output:\n",
    "# [(('CxDOIDnH8gp9KXzpBHJYXw', 'Jennifer', 610), 2209),\n",
    "#  (('bLbSNkLggFnqwNNzzq-Ijw', 'Stefany', 477), 1316),\n",
    "#  (('d_TBs6J3twMy9GChqUEXkg', 'Jennifer', 83), 904),\n",
    "#  (('cMEtAiW60I5wE_vLfTxoJQ', 'Jennifer', 155), 897),\n",
    "#  (('DK57YibC5ShBmqQl97CKog', 'Karen', 255), 887)]"
   ]
  },
  {
   "cell_type": "markdown",
   "metadata": {},
   "source": [
    "### Output: Bottom-5 reviewers, alongside their fans, with regards to reviews count."
   ]
  },
  {
   "cell_type": "code",
   "execution_count": null,
   "metadata": {
    "collapsed": true
   },
   "outputs": [],
   "source": [
    "#map() is used to map 1 to each user_id alongside the name and number of fans. \n",
    "#The action reduceByKey() is used to add the values based on the key (user_id,name,fans)\n",
    "#SortBy() is used to sort the output based on the value in an ascending order.\n",
    "#The action take() is used to returns the top-5 reviewrs.\n",
    "URB_FR.map(lambda x: ((x['user_id'],x['name'],x['fans']),1))\\\n",
    ".reduceByKey(lambda x,y: x+y)\\\n",
    ".sortBy(lambda x: x[1])\\\n",
    ".take(5)\n",
    "\n",
    "#Output:\n",
    "# [(('r313BDtInQ-2ANFpJlJeOw', 'Teka', 1), 1),\n",
    "#  (('idjOGQzwf4YSrbr09GpDSw', 'Lena', 1), 1),\n",
    "#  (('QebCWk1dVn0HgN5nUwyw0Q', 'Pam', 1), 1),\n",
    "#  (('uDs9eVg7b3MVt-ywT8IzBg', 'Dana', 3), 1),\n",
    "#  (('-pb5_I3OnOzInK9SAMafIQ', 'Angie', 2), 1)]"
   ]
  },
  {
   "cell_type": "code",
   "execution_count": null,
   "metadata": {
    "collapsed": true
   },
   "outputs": [],
   "source": [
    "#Explore the total number of users with fans who reviewed restaurants.\n",
    "URB_FR.map(lambda x: (x['user_id'],x['name'],x['fans'])).distinct().count()\n",
    "\n",
    "#Output: there are 234411 unique users.\n",
    "#i.e., 234411 data points have been used for regression\n",
    "#to evaluate spearman coefficient."
   ]
  },
  {
   "cell_type": "markdown",
   "metadata": {},
   "source": [
    "### Output: Spearman coefficient."
   ]
  },
  {
   "cell_type": "code",
   "execution_count": null,
   "metadata": {
    "collapsed": true
   },
   "outputs": [],
   "source": [
    "#Import Statistics\n",
    "from pyspark.mllib.stat import Statistics\n",
    "\n",
    "#Create a list containing the number of fans \n",
    "#and the list of the corresponding review count \n",
    "fan_count=URB_FR.map(lambda x: ((x['user_id'],x['fans']),1))\\\n",
    ".reduceByKey(lambda x,y: x+y).sortBy(lambda x: -x[1])\\\n",
    ".map(lambda x: x[0][1])\n",
    "review_count=URB_FR.map(lambda x: ((x['user_id'],x['fans']),1))\\\n",
    ".reduceByKey(lambda x,y: x+y).sortBy(lambda x: -x[1])\\\n",
    ".map(lambda x: x[1])\n",
    "\n",
    "#Evaluate the Spearman coefficient.\n",
    "Statistics.corr(fan_count,review_count,'spearman')\n",
    "\n",
    "#Output: 0.20215098247967828"
   ]
  },
  {
   "cell_type": "markdown",
   "metadata": {},
   "source": [
    "#### EXTRA: user unicity.  "
   ]
  },
  {
   "cell_type": "code",
   "execution_count": null,
   "metadata": {
    "collapsed": true
   },
   "outputs": [],
   "source": [
    "#Explore the total number of users with fans who reviewed restaurants\n",
    "#based on the name. \n",
    "URB_FR.map(lambda x: x['name']).distinct().count()\n",
    "\n",
    "#Output: there are 32206 users based on the 'name' as a key.\n",
    "#Note: this shows that there many users who hold the same name,\n",
    "#for instance, in the top-5 above, there are 3 Jennifers, each one with her unique user_id. "
   ]
  },
  {
   "cell_type": "code",
   "execution_count": null,
   "metadata": {
    "collapsed": true
   },
   "outputs": [],
   "source": [
    "#Explore the total number of users with fans who reviewed restaurants.\n",
    "#based on th pair (name,fans).\n",
    "URB_FR.map(lambda x: (x['name'],x['fans'])).distinct().count()\n",
    "\n",
    "#Output: there are 71476 users based on the pair (name,fans) as a key. \n",
    "#Note: this shows that there many users who, by coincidence, hold the same pair (name,fans)."
   ]
  }
 ],
 "metadata": {
  "kernelspec": {
   "display_name": "Python 3",
   "language": "python",
   "name": "python3"
  },
  "language_info": {
   "codemirror_mode": {
    "name": "ipython",
    "version": 3
   },
   "file_extension": ".py",
   "mimetype": "text/x-python",
   "name": "python",
   "nbconvert_exporter": "python",
   "pygments_lexer": "ipython3",
   "version": "3.7.0"
  }
 },
 "nbformat": 4,
 "nbformat_minor": 2
}
